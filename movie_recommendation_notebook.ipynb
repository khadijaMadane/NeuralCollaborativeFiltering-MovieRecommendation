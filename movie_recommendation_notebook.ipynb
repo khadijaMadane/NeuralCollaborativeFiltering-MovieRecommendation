{
 "cells": [
  {
   "cell_type": "code",
   "execution_count": null,
   "metadata": {},
   "outputs": [],
   "source": [
    "\n",
    "import pandas as pd\n",
    "from sklearn.model_selection import train_test_split\n",
    "import numpy as np\n",
    "from pathlib import Path\n",
    "\n",
    "data_path = Path(\"/kaggle/input/moviedata\")\n",
    "\n",
    "ratings = pd.read_csv(data_path / 'ratings.csv')\n",
    "movies = pd.read_csv(data_path / 'movies.csv')\n",
    "\n",
    "# Get unique user and movie counts\n",
    "user_count = ratings[\"userId\"].nunique()\n",
    "movie_count = movies[\"movieId\"].nunique()\n",
    "\n",
    "# Prepare the data for model training\n",
    "X = ratings[['userId', 'movieId']]\n",
    "Y = ratings['rating'].astype(np.float32)\n",
    "\n",
    "# Split the data into training and testing sets\n",
    "random_state = 7\n",
    "test_size = 0.2\n",
    "X_train, X_test, Y_train, Y_test = train_test_split(X, Y, test_size=test_size, random_state=random_state)\n",
    "datasets = {'train': (X_train, Y_train), 'test': (X_test, Y_test)}"
   ]
  },
  {
   "cell_type": "code",
   "execution_count": null,
   "metadata": {
    "execution": {
     "iopub.execute_input": "2024-11-06T23:28:18.884056Z",
     "iopub.status.busy": "2024-11-06T23:28:18.883724Z",
     "iopub.status.idle": "2024-11-06T23:28:18.898700Z",
     "shell.execute_reply": "2024-11-06T23:28:18.897866Z",
     "shell.execute_reply.started": "2024-11-06T23:28:18.884022Z"
    },
    "trusted": true
   },
   "outputs": [],
   "source": [
    "import torch\n",
    "from torch import nn\n",
    "\n",
    "class NeuralColabFilteringNet(nn.Module):\n",
    "    \"\"\"\n",
    "    Creates an NCF (Neural Collaborative Filtering) network, with configurable model architecture\n",
    "    \"\"\"\n",
    "    def __init__(self, \n",
    "                 user_count,\n",
    "                 movie_count,\n",
    "                 embedding_size= 256, \n",
    "                 hidden_layers=( 512, 256, 128, 64, 32 ),  \n",
    "                 dropout_rate=0.6,  \n",
    "                 output_range=(1, 5)):\n",
    "        super().__init__()\n",
    "\n",
    "        # Initialiser les tailles de hachage d'embedding\n",
    "        self.user_hash_size = user_count\n",
    "        self.movie_hash_size = movie_count\n",
    "\n",
    "        # Initialiser les composants de l'architecture du modèle\n",
    "        self.user_embedding = nn.Embedding(user_count, embedding_size)\n",
    "        self.movie_embedding = nn.Embedding(movie_count, embedding_size)\n",
    "        self.MLP = self._gen_MLP(embedding_size, hidden_layers, dropout_rate)\n",
    "\n",
    "        # Initialiser les paramètres de normalisation de sortie\n",
    "        assert output_range and len(output_range) == 2, \"output_range has to be a tuple with two integers\"\n",
    "        self.norm_min = min(output_range)\n",
    "        self.norm_range = abs(output_range[0] - output_range[1]) + 1\n",
    "\n",
    "        self._init_params()\n",
    "\n",
    "    def _gen_MLP(self, embedding_size, hidden_layers_units, dropout_rate):\n",
    "        \"Generates the MLP portion of the model architecture\"\n",
    "        \n",
    "        assert (embedding_size * 2) == hidden_layers_units[0], \"First input layer number of units has to be equal to twice the embedding size!\"\n",
    "        \n",
    "        hidden_layers = []\n",
    "        input_units = hidden_layers_units[0]\n",
    "\n",
    "        for num_units in hidden_layers_units[1:]:\n",
    "            hidden_layers.append(nn.Linear(input_units, num_units))\n",
    "            hidden_layers.append(nn.ReLU())\n",
    "            if dropout_rate:\n",
    "                hidden_layers.append(nn.Dropout(dropout_rate))\n",
    "            input_units = num_units\n",
    "            \n",
    "        hidden_layers.append(nn.Linear(hidden_layers_units[-1], 1))\n",
    "        hidden_layers.append(nn.Sigmoid())\n",
    "        return nn.Sequential(*hidden_layers)\n",
    "\n",
    "    def _init_params(self):\n",
    "        \"Initializes model parameters\"\n",
    "        def weights_init(m):\n",
    "            if isinstance(m, nn.Linear):\n",
    "                torch.nn.init.xavier_uniform_(m.weight)\n",
    "                m.bias.data.fill_(0.01)\n",
    "\n",
    "        self.user_embedding.weight.data.uniform_(-0.05, 0.05)\n",
    "        self.movie_embedding.weight.data.uniform_(-0.05, 0.05)\n",
    "        self.MLP.apply(weights_init)\n",
    "\n",
    "    def forward(self, user_id, movie_id):\n",
    "        \"Computes forward pass\"\n",
    "        user_features = self.user_embedding(user_id % self.user_hash_size)\n",
    "        movie_features = self.movie_embedding(movie_id % self.movie_hash_size)\n",
    "        x = torch.cat([user_features, movie_features], dim=1)\n",
    "        x = self.MLP(x)\n",
    "        normalized_output = x * self.norm_range + self.norm_min\n",
    "        return normalized_output\n"
   ]
  },
  {
   "cell_type": "code",
   "execution_count": null,
   "metadata": {
    "execution": {
     "iopub.execute_input": "2024-11-06T23:28:18.900132Z",
     "iopub.status.busy": "2024-11-06T23:28:18.899852Z",
     "iopub.status.idle": "2024-11-06T23:28:20.638417Z",
     "shell.execute_reply": "2024-11-06T23:28:20.637363Z",
     "shell.execute_reply.started": "2024-11-06T23:28:18.900101Z"
    },
    "trusted": true
   },
   "outputs": [
    {
     "name": "stdout",
     "output_type": "stream",
     "text": [
      "Our model architecture:\n",
      "\n",
      "NeuralColabFilteringNet(\n",
      "  (user_embedding): Embedding(330975, 256)\n",
      "  (movie_embedding): Embedding(86537, 256)\n",
      "  (MLP): Sequential(\n",
      "    (0): Linear(in_features=512, out_features=256, bias=True)\n",
      "    (1): ReLU()\n",
      "    (2): Dropout(p=0.6, inplace=False)\n",
      "    (3): Linear(in_features=256, out_features=128, bias=True)\n",
      "    (4): ReLU()\n",
      "    (5): Dropout(p=0.6, inplace=False)\n",
      "    (6): Linear(in_features=128, out_features=64, bias=True)\n",
      "    (7): ReLU()\n",
      "    (8): Dropout(p=0.6, inplace=False)\n",
      "    (9): Linear(in_features=64, out_features=32, bias=True)\n",
      "    (10): ReLU()\n",
      "    (11): Dropout(p=0.6, inplace=False)\n",
      "    (12): Linear(in_features=32, out_features=1, bias=True)\n",
      "    (13): Sigmoid()\n",
      "  )\n",
      ")\n",
      "\n",
      "Number of model parameters: 107,057,665, model training size: 408.39 MB\n",
      "Dry run prediction for user-id:20297 and movie-id:4306 is: 3.683058977127075, actual rating is: 3.0\n"
     ]
    }
   ],
   "source": [
    "\n",
    "ncf = NeuralColabFilteringNet(user_count, movie_count)\n",
    "print(f\"Our model architecture:\\n\\n{ncf}\\n\")\n",
    "\n",
    "num_params = sum(p.numel() for p in ncf.parameters())\n",
    "print(f'Number of model parameters: {num_params:,}, model training size: {num_params*4/(1024**2):.2f} MB')\n",
    "\n",
    "# Random prediction for testing\n",
    "from random import randrange\n",
    "\n",
    "ratings_row = randrange(0, ratings.shape[0] - 1)\n",
    "test_user = int(ratings.iloc[ratings_row].userId)\n",
    "test_movie = int(ratings.iloc[ratings_row].movieId)\n",
    "actual_rating = ratings.iloc[ratings_row].rating\n",
    "\n",
    "ncf.to('cpu')\n",
    "predicted_rating = ncf(torch.tensor([test_user]), torch.tensor([test_movie]))\n",
    "print(f\"Dry run prediction for user-id:{test_user} and movie-id:{test_movie} is: {predicted_rating[0][0]}, actual rating is: {actual_rating}\")\n"
   ]
  },
  {
   "cell_type": "code",
   "execution_count": null,
   "metadata": {
    "execution": {
     "iopub.execute_input": "2024-11-06T23:28:20.641378Z",
     "iopub.status.busy": "2024-11-06T23:28:20.640958Z",
     "iopub.status.idle": "2024-11-06T23:28:20.652707Z",
     "shell.execute_reply": "2024-11-06T23:28:20.651769Z",
     "shell.execute_reply.started": "2024-11-06T23:28:20.641331Z"
    },
    "trusted": true
   },
   "outputs": [],
   "source": [
    "\n",
    "\n",
    "import numpy as np\n",
    "import math\n",
    "import torch\n",
    "\n",
    "class DatasetBatchIterator:\n",
    "    def __init__(self, X, Y, batch_size, shuffle=True, device='cpu'):\n",
    "        \"\"\"\n",
    "        Classe pour itérer sur les données par lots.\n",
    "\n",
    "        :param X: Les données d'entrée.\n",
    "        :param Y: Les cibles de sortie.\n",
    "        :param batch_size: Taille du lot.\n",
    "        :param shuffle: Si vrai, les données sont mélangées.\n",
    "        :param device: Dispositif pour les tenseurs ('cpu' ou 'cuda').\n",
    "        \"\"\"\n",
    "        self.X = np.asarray(X)\n",
    "        self.Y = np.asarray(Y)\n",
    "\n",
    "        if shuffle:\n",
    "            index = np.random.permutation(X.shape[0])\n",
    "            self.X = self.X[index]\n",
    "            self.Y = self.Y[index]\n",
    "\n",
    "        self.batch_size = batch_size\n",
    "        self.n_batches = int(np.ceil(X.shape[0] / batch_size))\n",
    "        self._current = 0 \n",
    "        self.device = device\n",
    "\n",
    "    def __iter__(self):\n",
    "        return self\n",
    "\n",
    "    def __next__(self):\n",
    "        return self.next()\n",
    "\n",
    "    def next(self):\n",
    "        if self._current >= self.n_batches:\n",
    "            raise StopIteration()\n",
    "        k = self._current\n",
    "        self._current += 1\n",
    "        bs = self.batch_size\n",
    "        X_batch = torch.tensor(self.X[k * bs:(k + 1) * bs], dtype=torch.long).to(self.device)\n",
    "        Y_batch = torch.tensor(self.Y[k * bs:(k + 1) * bs], dtype=torch.float).to(self.device)\n",
    "        return X_batch, Y_batch.view(-1, 1)\n",
    "\n",
    "    def __len__(self):\n",
    "        return self.n_batches \n"
   ]
  },
  {
   "cell_type": "code",
   "execution_count": null,
   "metadata": {
    "execution": {
     "iopub.execute_input": "2024-11-06T23:28:20.654723Z",
     "iopub.status.busy": "2024-11-06T23:28:20.654352Z",
     "iopub.status.idle": "2024-11-07T03:54:00.972567Z",
     "shell.execute_reply": "2024-11-07T03:54:00.971602Z",
     "shell.execute_reply.started": "2024-11-06T23:28:20.654681Z"
    },
    "trusted": true
   },
   "outputs": [
    {
     "name": "stderr",
     "output_type": "stream",
     "text": [
      "Train Epoch 1/50: 100%|██████████| 13216/13216 [05:11<00:00, 42.39batch/s]\n"
     ]
    },
    {
     "name": "stdout",
     "output_type": "stream",
     "text": [
      "Epoch [001/050][Time:315.30 sec] Train Loss: 0.8173 - RMSE: 0.9041 - MAE: 0.6938\n"
     ]
    },
    {
     "name": "stderr",
     "output_type": "stream",
     "text": [
      "Test:   0%|          | 0/3304 [00:00<?, ?batch/s]/tmp/ipykernel_29/2286422805.py:159: FutureWarning: `torch.cuda.amp.autocast(args...)` is deprecated. Please use `torch.amp.autocast('cuda', args...)` instead.\n",
      "  with torch.cuda.amp.autocast():\n",
      "Test: 100%|██████████| 3304/3304 [00:03<00:00, 879.98batch/s]\n"
     ]
    },
    {
     "name": "stdout",
     "output_type": "stream",
     "text": [
      "Validation Loss: 0.7391 - RMSE: 0.8597 - MAE: 0.6548\n"
     ]
    },
    {
     "name": "stderr",
     "output_type": "stream",
     "text": [
      "Train Epoch 2/50: 100%|██████████| 13216/13216 [05:11<00:00, 42.38batch/s]\n"
     ]
    },
    {
     "name": "stdout",
     "output_type": "stream",
     "text": [
      "Epoch [002/050][Time:315.28 sec] Train Loss: 0.7652 - RMSE: 0.8748 - MAE: 0.6673\n"
     ]
    },
    {
     "name": "stderr",
     "output_type": "stream",
     "text": [
      "Test: 100%|██████████| 3304/3304 [00:03<00:00, 886.77batch/s]\n"
     ]
    },
    {
     "name": "stdout",
     "output_type": "stream",
     "text": [
      "Validation Loss: 0.7230 - RMSE: 0.8503 - MAE: 0.6459\n"
     ]
    },
    {
     "name": "stderr",
     "output_type": "stream",
     "text": [
      "Train Epoch 3/50: 100%|██████████| 13216/13216 [05:12<00:00, 42.33batch/s]\n"
     ]
    },
    {
     "name": "stdout",
     "output_type": "stream",
     "text": [
      "Epoch [003/050][Time:315.68 sec] Train Loss: 0.7540 - RMSE: 0.8684 - MAE: 0.6623\n"
     ]
    },
    {
     "name": "stderr",
     "output_type": "stream",
     "text": [
      "Test: 100%|██████████| 3304/3304 [00:03<00:00, 907.47batch/s]\n"
     ]
    },
    {
     "name": "stdout",
     "output_type": "stream",
     "text": [
      "Validation Loss: 0.7177 - RMSE: 0.8471 - MAE: 0.6441\n"
     ]
    },
    {
     "name": "stderr",
     "output_type": "stream",
     "text": [
      "Train Epoch 4/50: 100%|██████████| 13216/13216 [05:11<00:00, 42.37batch/s]\n"
     ]
    },
    {
     "name": "stdout",
     "output_type": "stream",
     "text": [
      "Epoch [004/050][Time:315.35 sec] Train Loss: 0.7477 - RMSE: 0.8647 - MAE: 0.6594\n"
     ]
    },
    {
     "name": "stderr",
     "output_type": "stream",
     "text": [
      "Test: 100%|██████████| 3304/3304 [00:03<00:00, 901.42batch/s]\n"
     ]
    },
    {
     "name": "stdout",
     "output_type": "stream",
     "text": [
      "Validation Loss: 0.7115 - RMSE: 0.8435 - MAE: 0.6418\n"
     ]
    },
    {
     "name": "stderr",
     "output_type": "stream",
     "text": [
      "Train Epoch 5/50: 100%|██████████| 13216/13216 [05:11<00:00, 42.37batch/s]\n"
     ]
    },
    {
     "name": "stdout",
     "output_type": "stream",
     "text": [
      "Epoch [005/050][Time:315.35 sec] Train Loss: 0.7437 - RMSE: 0.8624 - MAE: 0.6575\n"
     ]
    },
    {
     "name": "stderr",
     "output_type": "stream",
     "text": [
      "Test: 100%|██████████| 3304/3304 [00:03<00:00, 902.65batch/s]\n"
     ]
    },
    {
     "name": "stdout",
     "output_type": "stream",
     "text": [
      "Validation Loss: 0.7054 - RMSE: 0.8399 - MAE: 0.6356\n"
     ]
    },
    {
     "name": "stderr",
     "output_type": "stream",
     "text": [
      "Train Epoch 6/50: 100%|██████████| 13216/13216 [05:11<00:00, 42.38batch/s]\n"
     ]
    },
    {
     "name": "stdout",
     "output_type": "stream",
     "text": [
      "Epoch [006/050][Time:315.29 sec] Train Loss: 0.7413 - RMSE: 0.8610 - MAE: 0.6565\n"
     ]
    },
    {
     "name": "stderr",
     "output_type": "stream",
     "text": [
      "Test: 100%|██████████| 3304/3304 [00:03<00:00, 898.17batch/s]\n"
     ]
    },
    {
     "name": "stdout",
     "output_type": "stream",
     "text": [
      "Validation Loss: 0.7047 - RMSE: 0.8395 - MAE: 0.6364\n"
     ]
    },
    {
     "name": "stderr",
     "output_type": "stream",
     "text": [
      "Train Epoch 7/50: 100%|██████████| 13216/13216 [05:11<00:00, 42.37batch/s]\n"
     ]
    },
    {
     "name": "stdout",
     "output_type": "stream",
     "text": [
      "Epoch [007/050][Time:315.33 sec] Train Loss: 0.7396 - RMSE: 0.8600 - MAE: 0.6558\n"
     ]
    },
    {
     "name": "stderr",
     "output_type": "stream",
     "text": [
      "Test: 100%|██████████| 3304/3304 [00:03<00:00, 905.53batch/s]\n"
     ]
    },
    {
     "name": "stdout",
     "output_type": "stream",
     "text": [
      "Validation Loss: 0.7026 - RMSE: 0.8382 - MAE: 0.6374\n"
     ]
    },
    {
     "name": "stderr",
     "output_type": "stream",
     "text": [
      "Train Epoch 8/50: 100%|██████████| 13216/13216 [05:12<00:00, 42.35batch/s]\n"
     ]
    },
    {
     "name": "stdout",
     "output_type": "stream",
     "text": [
      "Epoch [008/050][Time:315.49 sec] Train Loss: 0.7376 - RMSE: 0.8588 - MAE: 0.6548\n"
     ]
    },
    {
     "name": "stderr",
     "output_type": "stream",
     "text": [
      "Test: 100%|██████████| 3304/3304 [00:03<00:00, 899.39batch/s]\n"
     ]
    },
    {
     "name": "stdout",
     "output_type": "stream",
     "text": [
      "Validation Loss: 0.7015 - RMSE: 0.8376 - MAE: 0.6362\n"
     ]
    },
    {
     "name": "stderr",
     "output_type": "stream",
     "text": [
      "Train Epoch 9/50: 100%|██████████| 13216/13216 [05:12<00:00, 42.36batch/s]\n"
     ]
    },
    {
     "name": "stdout",
     "output_type": "stream",
     "text": [
      "Epoch [009/050][Time:315.45 sec] Train Loss: 0.7351 - RMSE: 0.8574 - MAE: 0.6539\n"
     ]
    },
    {
     "name": "stderr",
     "output_type": "stream",
     "text": [
      "Test: 100%|██████████| 3304/3304 [00:03<00:00, 905.80batch/s]\n"
     ]
    },
    {
     "name": "stdout",
     "output_type": "stream",
     "text": [
      "Validation Loss: 0.6978 - RMSE: 0.8353 - MAE: 0.6356\n"
     ]
    },
    {
     "name": "stderr",
     "output_type": "stream",
     "text": [
      "Train Epoch 10/50: 100%|██████████| 13216/13216 [05:11<00:00, 42.37batch/s]\n"
     ]
    },
    {
     "name": "stdout",
     "output_type": "stream",
     "text": [
      "Epoch [010/050][Time:315.37 sec] Train Loss: 0.7328 - RMSE: 0.8561 - MAE: 0.6529\n"
     ]
    },
    {
     "name": "stderr",
     "output_type": "stream",
     "text": [
      "Test: 100%|██████████| 3304/3304 [00:03<00:00, 874.68batch/s]\n"
     ]
    },
    {
     "name": "stdout",
     "output_type": "stream",
     "text": [
      "Validation Loss: 0.6977 - RMSE: 0.8353 - MAE: 0.6355\n"
     ]
    },
    {
     "name": "stderr",
     "output_type": "stream",
     "text": [
      "Train Epoch 11/50: 100%|██████████| 13216/13216 [05:11<00:00, 42.40batch/s]\n"
     ]
    },
    {
     "name": "stdout",
     "output_type": "stream",
     "text": [
      "Epoch [011/050][Time:315.07 sec] Train Loss: 0.6975 - RMSE: 0.8351 - MAE: 0.6354\n"
     ]
    },
    {
     "name": "stderr",
     "output_type": "stream",
     "text": [
      "Test: 100%|██████████| 3304/3304 [00:03<00:00, 896.50batch/s]\n"
     ]
    },
    {
     "name": "stdout",
     "output_type": "stream",
     "text": [
      "Validation Loss: 0.6718 - RMSE: 0.8196 - MAE: 0.6206\n"
     ]
    },
    {
     "name": "stderr",
     "output_type": "stream",
     "text": [
      "Train Epoch 12/50: 100%|██████████| 13216/13216 [05:11<00:00, 42.41batch/s]\n"
     ]
    },
    {
     "name": "stdout",
     "output_type": "stream",
     "text": [
      "Epoch [012/050][Time:315.02 sec] Train Loss: 0.6816 - RMSE: 0.8256 - MAE: 0.6272\n"
     ]
    },
    {
     "name": "stderr",
     "output_type": "stream",
     "text": [
      "Test: 100%|██████████| 3304/3304 [00:03<00:00, 896.72batch/s]\n"
     ]
    },
    {
     "name": "stdout",
     "output_type": "stream",
     "text": [
      "Validation Loss: 0.6641 - RMSE: 0.8149 - MAE: 0.6163\n"
     ]
    },
    {
     "name": "stderr",
     "output_type": "stream",
     "text": [
      "Train Epoch 13/50: 100%|██████████| 13216/13216 [05:11<00:00, 42.37batch/s]\n"
     ]
    },
    {
     "name": "stdout",
     "output_type": "stream",
     "text": [
      "Epoch [013/050][Time:315.34 sec] Train Loss: 0.6723 - RMSE: 0.8200 - MAE: 0.6226\n"
     ]
    },
    {
     "name": "stderr",
     "output_type": "stream",
     "text": [
      "Test: 100%|██████████| 3304/3304 [00:03<00:00, 902.16batch/s]\n"
     ]
    },
    {
     "name": "stdout",
     "output_type": "stream",
     "text": [
      "Validation Loss: 0.6584 - RMSE: 0.8114 - MAE: 0.6129\n"
     ]
    },
    {
     "name": "stderr",
     "output_type": "stream",
     "text": [
      "Train Epoch 14/50: 100%|██████████| 13216/13216 [05:11<00:00, 42.39batch/s]\n"
     ]
    },
    {
     "name": "stdout",
     "output_type": "stream",
     "text": [
      "Epoch [014/050][Time:315.23 sec] Train Loss: 0.6656 - RMSE: 0.8158 - MAE: 0.6193\n"
     ]
    },
    {
     "name": "stderr",
     "output_type": "stream",
     "text": [
      "Test: 100%|██████████| 3304/3304 [00:03<00:00, 906.02batch/s]\n"
     ]
    },
    {
     "name": "stdout",
     "output_type": "stream",
     "text": [
      "Validation Loss: 0.6550 - RMSE: 0.8093 - MAE: 0.6118\n"
     ]
    },
    {
     "name": "stderr",
     "output_type": "stream",
     "text": [
      "Train Epoch 15/50: 100%|██████████| 13216/13216 [05:11<00:00, 42.43batch/s]\n"
     ]
    },
    {
     "name": "stdout",
     "output_type": "stream",
     "text": [
      "Epoch [015/050][Time:314.93 sec] Train Loss: 0.6602 - RMSE: 0.8125 - MAE: 0.6167\n"
     ]
    },
    {
     "name": "stderr",
     "output_type": "stream",
     "text": [
      "Test: 100%|██████████| 3304/3304 [00:03<00:00, 898.59batch/s]\n"
     ]
    },
    {
     "name": "stdout",
     "output_type": "stream",
     "text": [
      "Validation Loss: 0.6527 - RMSE: 0.8079 - MAE: 0.6104\n"
     ]
    },
    {
     "name": "stderr",
     "output_type": "stream",
     "text": [
      "Train Epoch 16/50: 100%|██████████| 13216/13216 [05:11<00:00, 42.41batch/s]\n"
     ]
    },
    {
     "name": "stdout",
     "output_type": "stream",
     "text": [
      "Epoch [016/050][Time:315.08 sec] Train Loss: 0.6560 - RMSE: 0.8099 - MAE: 0.6146\n"
     ]
    },
    {
     "name": "stderr",
     "output_type": "stream",
     "text": [
      "Test: 100%|██████████| 3304/3304 [00:03<00:00, 907.10batch/s]\n"
     ]
    },
    {
     "name": "stdout",
     "output_type": "stream",
     "text": [
      "Validation Loss: 0.6508 - RMSE: 0.8067 - MAE: 0.6099\n"
     ]
    },
    {
     "name": "stderr",
     "output_type": "stream",
     "text": [
      "Train Epoch 17/50: 100%|██████████| 13216/13216 [05:11<00:00, 42.44batch/s]\n"
     ]
    },
    {
     "name": "stdout",
     "output_type": "stream",
     "text": [
      "Epoch [017/050][Time:314.85 sec] Train Loss: 0.6522 - RMSE: 0.8076 - MAE: 0.6128\n"
     ]
    },
    {
     "name": "stderr",
     "output_type": "stream",
     "text": [
      "Test: 100%|██████████| 3304/3304 [00:03<00:00, 901.72batch/s]\n"
     ]
    },
    {
     "name": "stdout",
     "output_type": "stream",
     "text": [
      "Validation Loss: 0.6489 - RMSE: 0.8056 - MAE: 0.6076\n"
     ]
    },
    {
     "name": "stderr",
     "output_type": "stream",
     "text": [
      "Train Epoch 18/50: 100%|██████████| 13216/13216 [05:11<00:00, 42.40batch/s]\n"
     ]
    },
    {
     "name": "stdout",
     "output_type": "stream",
     "text": [
      "Epoch [018/050][Time:315.13 sec] Train Loss: 0.6492 - RMSE: 0.8057 - MAE: 0.6112\n"
     ]
    },
    {
     "name": "stderr",
     "output_type": "stream",
     "text": [
      "Test: 100%|██████████| 3304/3304 [00:03<00:00, 890.02batch/s]\n"
     ]
    },
    {
     "name": "stdout",
     "output_type": "stream",
     "text": [
      "Validation Loss: 0.6478 - RMSE: 0.8049 - MAE: 0.6075\n"
     ]
    },
    {
     "name": "stderr",
     "output_type": "stream",
     "text": [
      "Train Epoch 19/50: 100%|██████████| 13216/13216 [05:11<00:00, 42.41batch/s]\n"
     ]
    },
    {
     "name": "stdout",
     "output_type": "stream",
     "text": [
      "Epoch [019/050][Time:315.07 sec] Train Loss: 0.6463 - RMSE: 0.8039 - MAE: 0.6099\n"
     ]
    },
    {
     "name": "stderr",
     "output_type": "stream",
     "text": [
      "Test: 100%|██████████| 3304/3304 [00:03<00:00, 887.66batch/s]\n"
     ]
    },
    {
     "name": "stdout",
     "output_type": "stream",
     "text": [
      "Validation Loss: 0.6470 - RMSE: 0.8043 - MAE: 0.6073\n"
     ]
    },
    {
     "name": "stderr",
     "output_type": "stream",
     "text": [
      "Train Epoch 20/50: 100%|██████████| 13216/13216 [05:11<00:00, 42.44batch/s]\n"
     ]
    },
    {
     "name": "stdout",
     "output_type": "stream",
     "text": [
      "Epoch [020/050][Time:314.79 sec] Train Loss: 0.6436 - RMSE: 0.8022 - MAE: 0.6086\n"
     ]
    },
    {
     "name": "stderr",
     "output_type": "stream",
     "text": [
      "Test: 100%|██████████| 3304/3304 [00:03<00:00, 896.92batch/s]\n"
     ]
    },
    {
     "name": "stdout",
     "output_type": "stream",
     "text": [
      "Validation Loss: 0.6457 - RMSE: 0.8036 - MAE: 0.6065\n"
     ]
    },
    {
     "name": "stderr",
     "output_type": "stream",
     "text": [
      "Train Epoch 21/50: 100%|██████████| 13216/13216 [05:11<00:00, 42.42batch/s]\n"
     ]
    },
    {
     "name": "stdout",
     "output_type": "stream",
     "text": [
      "Epoch [021/050][Time:314.99 sec] Train Loss: 0.6242 - RMSE: 0.7900 - MAE: 0.5985\n"
     ]
    },
    {
     "name": "stderr",
     "output_type": "stream",
     "text": [
      "Test: 100%|██████████| 3304/3304 [00:03<00:00, 906.62batch/s]\n"
     ]
    },
    {
     "name": "stdout",
     "output_type": "stream",
     "text": [
      "Validation Loss: 0.6457 - RMSE: 0.8035 - MAE: 0.6059\n"
     ]
    },
    {
     "name": "stderr",
     "output_type": "stream",
     "text": [
      "Train Epoch 22/50: 100%|██████████| 13216/13216 [05:11<00:00, 42.41batch/s]\n"
     ]
    },
    {
     "name": "stdout",
     "output_type": "stream",
     "text": [
      "Epoch [022/050][Time:315.06 sec] Train Loss: 0.6201 - RMSE: 0.7874 - MAE: 0.5962\n"
     ]
    },
    {
     "name": "stderr",
     "output_type": "stream",
     "text": [
      "Test: 100%|██████████| 3304/3304 [00:03<00:00, 907.85batch/s]\n"
     ]
    },
    {
     "name": "stdout",
     "output_type": "stream",
     "text": [
      "Validation Loss: 0.6450 - RMSE: 0.8031 - MAE: 0.6049\n"
     ]
    },
    {
     "name": "stderr",
     "output_type": "stream",
     "text": [
      "Train Epoch 23/50: 100%|██████████| 13216/13216 [05:11<00:00, 42.40batch/s]\n"
     ]
    },
    {
     "name": "stdout",
     "output_type": "stream",
     "text": [
      "Epoch [023/050][Time:315.15 sec] Train Loss: 0.6173 - RMSE: 0.7857 - MAE: 0.5946\n"
     ]
    },
    {
     "name": "stderr",
     "output_type": "stream",
     "text": [
      "Test: 100%|██████████| 3304/3304 [00:03<00:00, 908.16batch/s]\n"
     ]
    },
    {
     "name": "stdout",
     "output_type": "stream",
     "text": [
      "Validation Loss: 0.6445 - RMSE: 0.8028 - MAE: 0.6045\n"
     ]
    },
    {
     "name": "stderr",
     "output_type": "stream",
     "text": [
      "Train Epoch 24/50: 100%|██████████| 13216/13216 [05:11<00:00, 42.40batch/s]\n"
     ]
    },
    {
     "name": "stdout",
     "output_type": "stream",
     "text": [
      "Epoch [024/050][Time:315.08 sec] Train Loss: 0.6148 - RMSE: 0.7841 - MAE: 0.5933\n"
     ]
    },
    {
     "name": "stderr",
     "output_type": "stream",
     "text": [
      "Test: 100%|██████████| 3304/3304 [00:03<00:00, 899.63batch/s]\n"
     ]
    },
    {
     "name": "stdout",
     "output_type": "stream",
     "text": [
      "Validation Loss: 0.6442 - RMSE: 0.8027 - MAE: 0.6045\n"
     ]
    },
    {
     "name": "stderr",
     "output_type": "stream",
     "text": [
      "Train Epoch 25/50: 100%|██████████| 13216/13216 [05:11<00:00, 42.41batch/s]\n"
     ]
    },
    {
     "name": "stdout",
     "output_type": "stream",
     "text": [
      "Epoch [025/050][Time:315.00 sec] Train Loss: 0.6124 - RMSE: 0.7826 - MAE: 0.5920\n"
     ]
    },
    {
     "name": "stderr",
     "output_type": "stream",
     "text": [
      "Test: 100%|██████████| 3304/3304 [00:03<00:00, 900.71batch/s]\n"
     ]
    },
    {
     "name": "stdout",
     "output_type": "stream",
     "text": [
      "Validation Loss: 0.6440 - RMSE: 0.8025 - MAE: 0.6040\n"
     ]
    },
    {
     "name": "stderr",
     "output_type": "stream",
     "text": [
      "Train Epoch 26/50: 100%|██████████| 13216/13216 [05:11<00:00, 42.42batch/s]\n"
     ]
    },
    {
     "name": "stdout",
     "output_type": "stream",
     "text": [
      "Epoch [026/050][Time:314.94 sec] Train Loss: 0.6103 - RMSE: 0.7812 - MAE: 0.5908\n"
     ]
    },
    {
     "name": "stderr",
     "output_type": "stream",
     "text": [
      "Test: 100%|██████████| 3304/3304 [00:03<00:00, 895.98batch/s]\n"
     ]
    },
    {
     "name": "stdout",
     "output_type": "stream",
     "text": [
      "Validation Loss: 0.6441 - RMSE: 0.8026 - MAE: 0.6042\n"
     ]
    },
    {
     "name": "stderr",
     "output_type": "stream",
     "text": [
      "Train Epoch 27/50: 100%|██████████| 13216/13216 [05:11<00:00, 42.43batch/s]\n"
     ]
    },
    {
     "name": "stdout",
     "output_type": "stream",
     "text": [
      "Epoch [027/050][Time:314.89 sec] Train Loss: 0.6083 - RMSE: 0.7800 - MAE: 0.5897\n"
     ]
    },
    {
     "name": "stderr",
     "output_type": "stream",
     "text": [
      "Test: 100%|██████████| 3304/3304 [00:03<00:00, 893.61batch/s]\n"
     ]
    },
    {
     "name": "stdout",
     "output_type": "stream",
     "text": [
      "Validation Loss: 0.6439 - RMSE: 0.8024 - MAE: 0.6040\n"
     ]
    },
    {
     "name": "stderr",
     "output_type": "stream",
     "text": [
      "Train Epoch 28/50: 100%|██████████| 13216/13216 [05:11<00:00, 42.43batch/s]\n"
     ]
    },
    {
     "name": "stdout",
     "output_type": "stream",
     "text": [
      "Epoch [028/050][Time:314.93 sec] Train Loss: 0.6065 - RMSE: 0.7788 - MAE: 0.5887\n"
     ]
    },
    {
     "name": "stderr",
     "output_type": "stream",
     "text": [
      "Test: 100%|██████████| 3304/3304 [00:03<00:00, 884.04batch/s]\n"
     ]
    },
    {
     "name": "stdout",
     "output_type": "stream",
     "text": [
      "Validation Loss: 0.6438 - RMSE: 0.8023 - MAE: 0.6037\n"
     ]
    },
    {
     "name": "stderr",
     "output_type": "stream",
     "text": [
      "Train Epoch 29/50: 100%|██████████| 13216/13216 [05:11<00:00, 42.42batch/s]\n"
     ]
    },
    {
     "name": "stdout",
     "output_type": "stream",
     "text": [
      "Epoch [029/050][Time:314.96 sec] Train Loss: 0.6047 - RMSE: 0.7777 - MAE: 0.5877\n"
     ]
    },
    {
     "name": "stderr",
     "output_type": "stream",
     "text": [
      "Test: 100%|██████████| 3304/3304 [00:03<00:00, 904.15batch/s]\n"
     ]
    },
    {
     "name": "stdout",
     "output_type": "stream",
     "text": [
      "Validation Loss: 0.6437 - RMSE: 0.8023 - MAE: 0.6034\n"
     ]
    },
    {
     "name": "stderr",
     "output_type": "stream",
     "text": [
      "Train Epoch 30/50: 100%|██████████| 13216/13216 [05:11<00:00, 42.41batch/s]\n"
     ]
    },
    {
     "name": "stdout",
     "output_type": "stream",
     "text": [
      "Epoch [030/050][Time:315.07 sec] Train Loss: 0.6031 - RMSE: 0.7766 - MAE: 0.5869\n"
     ]
    },
    {
     "name": "stderr",
     "output_type": "stream",
     "text": [
      "Test: 100%|██████████| 3304/3304 [00:03<00:00, 909.41batch/s]\n"
     ]
    },
    {
     "name": "stdout",
     "output_type": "stream",
     "text": [
      "Validation Loss: 0.6436 - RMSE: 0.8023 - MAE: 0.6034\n"
     ]
    },
    {
     "name": "stderr",
     "output_type": "stream",
     "text": [
      "Train Epoch 31/50: 100%|██████████| 13216/13216 [05:11<00:00, 42.43batch/s]\n"
     ]
    },
    {
     "name": "stdout",
     "output_type": "stream",
     "text": [
      "Epoch [031/050][Time:314.92 sec] Train Loss: 0.5985 - RMSE: 0.7736 - MAE: 0.5843\n"
     ]
    },
    {
     "name": "stderr",
     "output_type": "stream",
     "text": [
      "Test: 100%|██████████| 3304/3304 [00:03<00:00, 906.75batch/s]\n"
     ]
    },
    {
     "name": "stdout",
     "output_type": "stream",
     "text": [
      "Validation Loss: 0.6440 - RMSE: 0.8025 - MAE: 0.6035\n"
     ]
    },
    {
     "name": "stderr",
     "output_type": "stream",
     "text": [
      "Train Epoch 32/50: 100%|██████████| 13216/13216 [05:11<00:00, 42.42batch/s]\n"
     ]
    },
    {
     "name": "stdout",
     "output_type": "stream",
     "text": [
      "Epoch [032/050][Time:314.93 sec] Train Loss: 0.5982 - RMSE: 0.7735 - MAE: 0.5841\n"
     ]
    },
    {
     "name": "stderr",
     "output_type": "stream",
     "text": [
      "Test: 100%|██████████| 3304/3304 [00:03<00:00, 905.61batch/s]\n"
     ]
    },
    {
     "name": "stdout",
     "output_type": "stream",
     "text": [
      "Validation Loss: 0.6442 - RMSE: 0.8026 - MAE: 0.6036\n"
     ]
    },
    {
     "name": "stderr",
     "output_type": "stream",
     "text": [
      "Train Epoch 33/50: 100%|██████████| 13216/13216 [05:11<00:00, 42.41batch/s]\n"
     ]
    },
    {
     "name": "stdout",
     "output_type": "stream",
     "text": [
      "Epoch [033/050][Time:315.01 sec] Train Loss: 0.5979 - RMSE: 0.7732 - MAE: 0.5840\n"
     ]
    },
    {
     "name": "stderr",
     "output_type": "stream",
     "text": [
      "Test: 100%|██████████| 3304/3304 [00:03<00:00, 892.80batch/s]\n"
     ]
    },
    {
     "name": "stdout",
     "output_type": "stream",
     "text": [
      "Validation Loss: 0.6442 - RMSE: 0.8026 - MAE: 0.6036\n"
     ]
    },
    {
     "name": "stderr",
     "output_type": "stream",
     "text": [
      "Train Epoch 34/50: 100%|██████████| 13216/13216 [05:11<00:00, 42.44batch/s]\n"
     ]
    },
    {
     "name": "stdout",
     "output_type": "stream",
     "text": [
      "Epoch [034/050][Time:314.82 sec] Train Loss: 0.5976 - RMSE: 0.7731 - MAE: 0.5838\n"
     ]
    },
    {
     "name": "stderr",
     "output_type": "stream",
     "text": [
      "Test: 100%|██████████| 3304/3304 [00:03<00:00, 897.01batch/s]\n"
     ]
    },
    {
     "name": "stdout",
     "output_type": "stream",
     "text": [
      "Validation Loss: 0.6443 - RMSE: 0.8027 - MAE: 0.6036\n"
     ]
    },
    {
     "name": "stderr",
     "output_type": "stream",
     "text": [
      "Train Epoch 35/50: 100%|██████████| 13216/13216 [05:11<00:00, 42.42batch/s]\n"
     ]
    },
    {
     "name": "stdout",
     "output_type": "stream",
     "text": [
      "Epoch [035/050][Time:315.02 sec] Train Loss: 0.5973 - RMSE: 0.7729 - MAE: 0.5837\n"
     ]
    },
    {
     "name": "stderr",
     "output_type": "stream",
     "text": [
      "Test: 100%|██████████| 3304/3304 [00:03<00:00, 892.44batch/s]\n"
     ]
    },
    {
     "name": "stdout",
     "output_type": "stream",
     "text": [
      "Validation Loss: 0.6442 - RMSE: 0.8026 - MAE: 0.6036\n"
     ]
    },
    {
     "name": "stderr",
     "output_type": "stream",
     "text": [
      "Train Epoch 36/50: 100%|██████████| 13216/13216 [05:11<00:00, 42.42batch/s]\n"
     ]
    },
    {
     "name": "stdout",
     "output_type": "stream",
     "text": [
      "Epoch [036/050][Time:314.95 sec] Train Loss: 0.5971 - RMSE: 0.7727 - MAE: 0.5836\n"
     ]
    },
    {
     "name": "stderr",
     "output_type": "stream",
     "text": [
      "Test: 100%|██████████| 3304/3304 [00:03<00:00, 896.89batch/s]\n"
     ]
    },
    {
     "name": "stdout",
     "output_type": "stream",
     "text": [
      "Validation Loss: 0.6443 - RMSE: 0.8027 - MAE: 0.6036\n"
     ]
    },
    {
     "name": "stderr",
     "output_type": "stream",
     "text": [
      "Train Epoch 37/50: 100%|██████████| 13216/13216 [05:11<00:00, 42.43batch/s]\n"
     ]
    },
    {
     "name": "stdout",
     "output_type": "stream",
     "text": [
      "Epoch [037/050][Time:315.08 sec] Train Loss: 0.5968 - RMSE: 0.7725 - MAE: 0.5834\n"
     ]
    },
    {
     "name": "stderr",
     "output_type": "stream",
     "text": [
      "Test: 100%|██████████| 3304/3304 [00:03<00:00, 880.29batch/s]\n"
     ]
    },
    {
     "name": "stdout",
     "output_type": "stream",
     "text": [
      "Validation Loss: 0.6443 - RMSE: 0.8027 - MAE: 0.6036\n"
     ]
    },
    {
     "name": "stderr",
     "output_type": "stream",
     "text": [
      "Train Epoch 38/50: 100%|██████████| 13216/13216 [05:11<00:00, 42.43batch/s]\n"
     ]
    },
    {
     "name": "stdout",
     "output_type": "stream",
     "text": [
      "Epoch [038/050][Time:314.89 sec] Train Loss: 0.5963 - RMSE: 0.7722 - MAE: 0.5831\n"
     ]
    },
    {
     "name": "stderr",
     "output_type": "stream",
     "text": [
      "Test: 100%|██████████| 3304/3304 [00:03<00:00, 910.62batch/s]\n"
     ]
    },
    {
     "name": "stdout",
     "output_type": "stream",
     "text": [
      "Validation Loss: 0.6443 - RMSE: 0.8027 - MAE: 0.6036\n"
     ]
    },
    {
     "name": "stderr",
     "output_type": "stream",
     "text": [
      "Train Epoch 39/50: 100%|██████████| 13216/13216 [05:11<00:00, 42.44batch/s]\n"
     ]
    },
    {
     "name": "stdout",
     "output_type": "stream",
     "text": [
      "Epoch [039/050][Time:314.79 sec] Train Loss: 0.5964 - RMSE: 0.7723 - MAE: 0.5831\n"
     ]
    },
    {
     "name": "stderr",
     "output_type": "stream",
     "text": [
      "Test: 100%|██████████| 3304/3304 [00:03<00:00, 907.49batch/s]\n"
     ]
    },
    {
     "name": "stdout",
     "output_type": "stream",
     "text": [
      "Validation Loss: 0.6443 - RMSE: 0.8027 - MAE: 0.6036\n"
     ]
    },
    {
     "name": "stderr",
     "output_type": "stream",
     "text": [
      "Train Epoch 40/50: 100%|██████████| 13216/13216 [05:11<00:00, 42.41batch/s]\n"
     ]
    },
    {
     "name": "stdout",
     "output_type": "stream",
     "text": [
      "Epoch [040/050][Time:315.02 sec] Train Loss: 0.5962 - RMSE: 0.7722 - MAE: 0.5830\n"
     ]
    },
    {
     "name": "stderr",
     "output_type": "stream",
     "text": [
      "Test: 100%|██████████| 3304/3304 [00:03<00:00, 894.11batch/s]\n"
     ]
    },
    {
     "name": "stdout",
     "output_type": "stream",
     "text": [
      "Validation Loss: 0.6443 - RMSE: 0.8027 - MAE: 0.6036\n"
     ]
    },
    {
     "name": "stderr",
     "output_type": "stream",
     "text": [
      "Train Epoch 41/50: 100%|██████████| 13216/13216 [05:11<00:00, 42.42batch/s]\n"
     ]
    },
    {
     "name": "stdout",
     "output_type": "stream",
     "text": [
      "Epoch [041/050][Time:314.94 sec] Train Loss: 0.5955 - RMSE: 0.7717 - MAE: 0.5827\n"
     ]
    },
    {
     "name": "stderr",
     "output_type": "stream",
     "text": [
      "Test: 100%|██████████| 3304/3304 [00:03<00:00, 898.85batch/s]\n"
     ]
    },
    {
     "name": "stdout",
     "output_type": "stream",
     "text": [
      "Validation Loss: 0.6443 - RMSE: 0.8027 - MAE: 0.6036\n"
     ]
    },
    {
     "name": "stderr",
     "output_type": "stream",
     "text": [
      "Train Epoch 42/50: 100%|██████████| 13216/13216 [05:11<00:00, 42.42batch/s]\n"
     ]
    },
    {
     "name": "stdout",
     "output_type": "stream",
     "text": [
      "Epoch [042/050][Time:314.99 sec] Train Loss: 0.5956 - RMSE: 0.7718 - MAE: 0.5827\n"
     ]
    },
    {
     "name": "stderr",
     "output_type": "stream",
     "text": [
      "Test: 100%|██████████| 3304/3304 [00:03<00:00, 896.12batch/s]\n"
     ]
    },
    {
     "name": "stdout",
     "output_type": "stream",
     "text": [
      "Validation Loss: 0.6444 - RMSE: 0.8027 - MAE: 0.6036\n"
     ]
    },
    {
     "name": "stderr",
     "output_type": "stream",
     "text": [
      "Train Epoch 43/50: 100%|██████████| 13216/13216 [05:11<00:00, 42.39batch/s]\n"
     ]
    },
    {
     "name": "stdout",
     "output_type": "stream",
     "text": [
      "Epoch [043/050][Time:315.16 sec] Train Loss: 0.5955 - RMSE: 0.7717 - MAE: 0.5827\n"
     ]
    },
    {
     "name": "stderr",
     "output_type": "stream",
     "text": [
      "Test: 100%|██████████| 3304/3304 [00:03<00:00, 905.89batch/s]\n"
     ]
    },
    {
     "name": "stdout",
     "output_type": "stream",
     "text": [
      "Validation Loss: 0.6444 - RMSE: 0.8027 - MAE: 0.6036\n"
     ]
    },
    {
     "name": "stderr",
     "output_type": "stream",
     "text": [
      "Train Epoch 44/50: 100%|██████████| 13216/13216 [05:11<00:00, 42.43batch/s]\n"
     ]
    },
    {
     "name": "stdout",
     "output_type": "stream",
     "text": [
      "Epoch [044/050][Time:314.92 sec] Train Loss: 0.5956 - RMSE: 0.7718 - MAE: 0.5827\n"
     ]
    },
    {
     "name": "stderr",
     "output_type": "stream",
     "text": [
      "Test: 100%|██████████| 3304/3304 [00:03<00:00, 904.11batch/s]\n"
     ]
    },
    {
     "name": "stdout",
     "output_type": "stream",
     "text": [
      "Validation Loss: 0.6444 - RMSE: 0.8027 - MAE: 0.6036\n"
     ]
    },
    {
     "name": "stderr",
     "output_type": "stream",
     "text": [
      "Train Epoch 45/50: 100%|██████████| 13216/13216 [05:11<00:00, 42.41batch/s]\n"
     ]
    },
    {
     "name": "stdout",
     "output_type": "stream",
     "text": [
      "Epoch [045/050][Time:315.03 sec] Train Loss: 0.5956 - RMSE: 0.7717 - MAE: 0.5827\n"
     ]
    },
    {
     "name": "stderr",
     "output_type": "stream",
     "text": [
      "Test: 100%|██████████| 3304/3304 [00:03<00:00, 906.32batch/s]\n"
     ]
    },
    {
     "name": "stdout",
     "output_type": "stream",
     "text": [
      "Validation Loss: 0.6444 - RMSE: 0.8027 - MAE: 0.6036\n"
     ]
    },
    {
     "name": "stderr",
     "output_type": "stream",
     "text": [
      "Train Epoch 46/50: 100%|██████████| 13216/13216 [05:11<00:00, 42.43batch/s]\n"
     ]
    },
    {
     "name": "stdout",
     "output_type": "stream",
     "text": [
      "Epoch [046/050][Time:314.90 sec] Train Loss: 0.5953 - RMSE: 0.7716 - MAE: 0.5826\n"
     ]
    },
    {
     "name": "stderr",
     "output_type": "stream",
     "text": [
      "Test: 100%|██████████| 3304/3304 [00:03<00:00, 891.82batch/s]\n"
     ]
    },
    {
     "name": "stdout",
     "output_type": "stream",
     "text": [
      "Validation Loss: 0.6444 - RMSE: 0.8027 - MAE: 0.6036\n"
     ]
    },
    {
     "name": "stderr",
     "output_type": "stream",
     "text": [
      "Train Epoch 47/50: 100%|██████████| 13216/13216 [05:11<00:00, 42.42batch/s]\n"
     ]
    },
    {
     "name": "stdout",
     "output_type": "stream",
     "text": [
      "Epoch [047/050][Time:314.97 sec] Train Loss: 0.5953 - RMSE: 0.7716 - MAE: 0.5826\n"
     ]
    },
    {
     "name": "stderr",
     "output_type": "stream",
     "text": [
      "Test: 100%|██████████| 3304/3304 [00:03<00:00, 888.10batch/s]\n"
     ]
    },
    {
     "name": "stdout",
     "output_type": "stream",
     "text": [
      "Validation Loss: 0.6444 - RMSE: 0.8027 - MAE: 0.6036\n"
     ]
    },
    {
     "name": "stderr",
     "output_type": "stream",
     "text": [
      "Train Epoch 48/50: 100%|██████████| 13216/13216 [05:11<00:00, 42.40batch/s]\n"
     ]
    },
    {
     "name": "stdout",
     "output_type": "stream",
     "text": [
      "Epoch [048/050][Time:315.09 sec] Train Loss: 0.5954 - RMSE: 0.7716 - MAE: 0.5826\n"
     ]
    },
    {
     "name": "stderr",
     "output_type": "stream",
     "text": [
      "Test: 100%|██████████| 3304/3304 [00:03<00:00, 899.51batch/s]\n"
     ]
    },
    {
     "name": "stdout",
     "output_type": "stream",
     "text": [
      "Validation Loss: 0.6444 - RMSE: 0.8028 - MAE: 0.6036\n"
     ]
    },
    {
     "name": "stderr",
     "output_type": "stream",
     "text": [
      "Train Epoch 49/50: 100%|██████████| 13216/13216 [05:11<00:00, 42.45batch/s]\n"
     ]
    },
    {
     "name": "stdout",
     "output_type": "stream",
     "text": [
      "Epoch [049/050][Time:314.72 sec] Train Loss: 0.5953 - RMSE: 0.7716 - MAE: 0.5826\n"
     ]
    },
    {
     "name": "stderr",
     "output_type": "stream",
     "text": [
      "Test: 100%|██████████| 3304/3304 [00:03<00:00, 896.13batch/s]\n"
     ]
    },
    {
     "name": "stdout",
     "output_type": "stream",
     "text": [
      "Validation Loss: 0.6444 - RMSE: 0.8028 - MAE: 0.6036\n"
     ]
    },
    {
     "name": "stderr",
     "output_type": "stream",
     "text": [
      "Train Epoch 50/50: 100%|██████████| 13216/13216 [05:11<00:00, 42.41batch/s]\n"
     ]
    },
    {
     "name": "stdout",
     "output_type": "stream",
     "text": [
      "Epoch [050/050][Time:314.99 sec] Train Loss: 0.5953 - RMSE: 0.7715 - MAE: 0.5826\n"
     ]
    },
    {
     "name": "stderr",
     "output_type": "stream",
     "text": [
      "Test: 100%|██████████| 3304/3304 [00:03<00:00, 911.00batch/s]\n"
     ]
    },
    {
     "name": "stdout",
     "output_type": "stream",
     "text": [
      "Validation Loss: 0.6444 - RMSE: 0.8028 - MAE: 0.6036\n"
     ]
    },
    {
     "data": {
      "image/png": "[encoded data removed]",
      "text/plain": [
       "<Figure size 1200x600 with 1 Axes>"
      ]
     },
     "metadata": {},
     "output_type": "display_data"
    },
    {
     "data": {
      "image/png": "[encoded data removed]",
      "text/plain": [
       "<Figure size 1200x600 with 1 Axes>"
      ]
     },
     "metadata": {},
     "output_type": "display_data"
    },
    {
     "data": {
      "image/png": "[encoded data removed]",
      "text/plain": [
       "<Figure size 1200x600 with 1 Axes>"
      ]
     },
     "metadata": {},
     "output_type": "display_data"
    }
   ],
   "source": [
    "\n",
    "import pandas as pd\n",
    "import matplotlib.pyplot as plt\n",
    "import time\n",
    "import torch\n",
    "import torch.nn as nn\n",
    "import torch.optim as optim\n",
    "from tqdm import tqdm\n",
    "\n",
    "# Configuration de l'entraînement\n",
    "device = torch.device('cuda' if torch.cuda.is_available() else 'cpu')\n",
    "ncf = NeuralColabFilteringNet(user_count, movie_count).to(device)  # Remplacez par vos paramètres de modèle\n",
    "optimizer = optim.Adam(ncf.parameters(), lr=0.001, weight_decay=1e-5)\n",
    "criterion = nn.MSELoss()\n",
    "scheduler = torch.optim.lr_scheduler.StepLR(optimizer, step_size=10, gamma=0.1)\n",
    "scaler = torch.amp.GradScaler()\n",
    "epochs = 50\n",
    "batch_size = 2048\n",
    "\n",
    "# Structure pour stocker les métriques par époque\n",
    "history = {'epoch': [], 'train_loss': [], 'train_rmse': [], 'train_mae': [], 'val_loss': [], 'val_rmse': [], 'val_mae': []}\n",
    "\n",
    "# Boucle d'entraînement\n",
    "for epoch in range(epochs):\n",
    "    epoch_start_time = time.perf_counter()\n",
    "    ncf.train()\n",
    "    running_loss, total_squared_error, total_absolute_error, n_samples = 0.0, 0.0, 0.0, 0\n",
    "\n",
    "    train_loader = DatasetBatchIterator(datasets['train'][0], datasets['train'][1], batch_size=batch_size)\n",
    "    for x_batch, y_batch in tqdm(train_loader, desc=f\"Train Epoch {epoch + 1}/{epochs}\", unit=\"batch\"):\n",
    "        x_batch, y_batch = x_batch.to(device), y_batch.to(device)\n",
    "        optimizer.zero_grad()\n",
    "        with torch.amp.autocast(device_type='cuda'):\n",
    "            outputs = ncf(x_batch[:, 0], x_batch[:, 1])\n",
    "            loss = criterion(outputs, y_batch)\n",
    "\n",
    "        scaler.scale(loss).backward()\n",
    "        scaler.step(optimizer)\n",
    "        scaler.update()\n",
    "\n",
    "        running_loss += loss.item()\n",
    "        total_squared_error += torch.sum((outputs - y_batch) ** 2).item()\n",
    "        total_absolute_error += torch.sum(torch.abs(outputs - y_batch)).item()\n",
    "        n_samples += len(y_batch)\n",
    "\n",
    "    scheduler.step()  \n",
    "    average_train_loss = running_loss / len(train_loader)\n",
    "    average_rmse = (total_squared_error / n_samples) ** 0.5\n",
    "    average_mae = total_absolute_error / n_samples\n",
    "    epoch_duration = time.perf_counter() - epoch_start_time\n",
    "\n",
    "    print(f\"Epoch [{epoch + 1:03d}/{epochs:03d}][Time:{epoch_duration:.2f} sec] \"\n",
    "          f\"Train Loss: {average_train_loss:.4f} - RMSE: {average_rmse:.4f} - MAE: {average_mae:.4f}\")\n",
    "\n",
    "    # Évaluation sur l'ensemble de test\n",
    "    ncf.eval()\n",
    "    test_loss, total_squared_error, total_absolute_error, n_samples = 0.0, 0.0, 0.0, 0\n",
    "    with torch.no_grad():\n",
    "        test_loader = DatasetBatchIterator(datasets['test'][0], datasets['test'][1], batch_size=batch_size, shuffle=False)\n",
    "        for x_batch, y_batch in tqdm(test_loader, desc=\"Test\", unit=\"batch\"):\n",
    "            x_batch, y_batch = x_batch.to(device), y_batch.to(device)\n",
    "            with torch.cuda.amp.autocast():\n",
    "                outputs = ncf(x_batch[:, 0], x_batch[:, 1])\n",
    "                loss = criterion(outputs, y_batch)\n",
    "\n",
    "            # Calcul des métriques de test\n",
    "            test_loss += loss.item()\n",
    "            total_squared_error += torch.sum((outputs - y_batch) ** 2).item()\n",
    "            total_absolute_error += torch.sum(torch.abs(outputs - y_batch)).item()\n",
    "            n_samples += len(y_batch)\n",
    "\n",
    "    average_test_loss = test_loss / len(test_loader)\n",
    "    average_test_rmse = (total_squared_error / n_samples) ** 0.5\n",
    "    average_test_mae = total_absolute_error / n_samples\n",
    "\n",
    "    # Enregistrer les métriques de l'époque actuelle dans history\n",
    "    history['epoch'].append(epoch + 1)\n",
    "    history['train_loss'].append(average_train_loss)\n",
    "    history['train_rmse'].append(average_rmse)\n",
    "    history['train_mae'].append(average_mae)\n",
    "    history['val_loss'].append(average_test_loss)\n",
    "    history['val_rmse'].append(average_test_rmse)\n",
    "    history['val_mae'].append(average_test_mae)\n",
    "\n",
    "    print(f\"Validation Loss: {average_test_loss:.4f} - RMSE: {average_test_rmse:.4f} - MAE: {average_test_mae:.4f}\")\n",
    "\n",
    "# Création du DataFrame pour visualiser les métriques de chaque époque\n",
    "df_history = pd.DataFrame(history)\n",
    "\n",
    "# Tracé des courbes de perte pour chaque époque\n",
    "df_history.plot(x='epoch', y=['train_loss', 'val_loss'], figsize=(12, 6), title=\"Courbes de Perte du Modèle NCF\")\n",
    "plt.xlabel(\"Époque\")\n",
    "plt.ylabel(\"Perte\")\n",
    "plt.show()\n",
    "\n",
    "# Tracé des courbes RMSE pour chaque époque\n",
    "df_history.plot(x='epoch', y=['train_rmse', 'val_rmse'], figsize=(12, 6), title=\"Courbes RMSE du Modèle NCF\")\n",
    "plt.xlabel(\"Époque\")\n",
    "plt.ylabel(\"RMSE\")\n",
    "plt.show()\n",
    "\n",
    "# Tracé des courbes MAE pour chaque époque\n",
    "df_history.plot(x='epoch', y=['train_mae', 'val_mae'], figsize=(12, 6), title=\"Courbes MAE du Modèle NCF\")\n",
    "plt.xlabel(\"Époque\")\n",
    "plt.ylabel(\"MAE\")\n",
    "plt.show()\n"
   ]
  },
  {
   "cell_type": "code",
   "execution_count": 22,
   "metadata": {
    "execution": {
     "iopub.execute_input": "2024-11-07T03:54:00.974135Z",
     "iopub.status.busy": "2024-11-07T03:54:00.973830Z",
     "iopub.status.idle": "2024-11-07T03:54:01.794264Z",
     "shell.execute_reply": "2024-11-07T03:54:01.793332Z",
     "shell.execute_reply.started": "2024-11-07T03:54:00.974102Z"
    },
    "trusted": true
   },
   "outputs": [
    {
     "name": "stdout",
     "output_type": "stream",
     "text": [
      "['model5.pth', '.virtual_documents', 'model512.pth']\n"
     ]
    }
   ],
   "source": [
    "import os\n",
    "torch.save(ncf.state_dict(), \"/kaggle/working/model512.pth\")\n",
    "\n",
    "print(os.listdir(\"/kaggle/working\"))"
   ]
  },
  {
   "cell_type": "code",
   "execution_count": 23,
   "metadata": {
    "execution": {
     "iopub.execute_input": "2024-11-07T03:54:01.795664Z",
     "iopub.status.busy": "2024-11-07T03:54:01.795357Z",
     "iopub.status.idle": "2024-11-07T03:54:02.086833Z",
     "shell.execute_reply": "2024-11-07T03:54:02.085911Z",
     "shell.execute_reply.started": "2024-11-07T03:54:01.795632Z"
    },
    "trusted": true
   },
   "outputs": [
    {
     "data": {
      "image/png": "[encoded data removed]",
      "text/plain": [
       "<Figure size 1200x600 with 1 Axes>"
      ]
     },
     "metadata": {},
     "output_type": "display_data"
    }
   ],
   "source": [
    "import pandas as pd\n",
    "import matplotlib.pyplot as plt\n",
    "\n",
    "pd.DataFrame(history).plot(x='epoch', figsize=(12, 6), title=\"NCF Model Learning Curves\")\n",
    "plt.show()\n"
   ]
  },
  {
   "cell_type": "code",
   "execution_count": null,
   "metadata": {
    "execution": {
     "iopub.execute_input": "2024-11-07T03:54:02.088319Z",
     "iopub.status.busy": "2024-11-07T03:54:02.088002Z",
     "iopub.status.idle": "2024-11-07T03:54:20.614356Z",
     "shell.execute_reply": "2024-11-07T03:54:20.613310Z",
     "shell.execute_reply.started": "2024-11-07T03:54:02.088285Z"
    },
    "trusted": true
   },
   "outputs": [
    {
     "name": "stderr",
     "output_type": "stream",
     "text": [
      "/tmp/ipykernel_29/3937287654.py:11: FutureWarning: You are using `torch.load` with `weights_only=False` (the current default value), which uses the default pickle module implicitly. It is possible to construct malicious pickle data which will execute arbitrary code during unpickling (See https://github.com/pytorch/pytorch/blob/main/SECURITY.md#untrusted-models for more details). In a future release, the default value for `weights_only` will be flipped to `True`. This limits the functions that could be executed during unpickling. Arbitrary objects will no longer be allowed to be loaded via this mode unless they are explicitly allowlisted by the user via `torch.serialization.add_safe_globals`. We recommend you start setting `weights_only=True` for any use case where you don't have full control of the loaded file. Please open an issue on GitHub for any issues related to this experimental feature.\n",
      "  ncf.load_state_dict(torch.load(\"/kaggle/working/model512.pth\", map_location=device))\n"
     ]
    },
    {
     "name": "stdout",
     "output_type": "stream",
     "text": [
      "Training Loss: 0.5305, RMSE: 0.7282, MAE: 0.5459, Accuracy: 0.5646\n",
      "Test Loss: 0.6444, RMSE: 0.8026, MAE: 0.6036, Accuracy: 0.5237\n"
     ]
    }
   ],
   "source": [
    "# Importer les bibliothèques nécessaires\n",
    "import torch\n",
    "import numpy as np\n",
    "from torch import nn\n",
    "\n",
    "device = torch.device(\"cuda\" if torch.cuda.is_available() else \"cpu\")\n",
    "\n",
    "ncf = NeuralColabFilteringNet(user_count, movie_count)\n",
    "ncf.load_state_dict(torch.load(\"/kaggle/working/model512.pth\", map_location=device))\n",
    "ncf.to(device) \n",
    "ncf.eval()  \n",
    "\n",
    "# Définir la fonction pour évaluer le modèle\n",
    "def evaluate_model(model, dataset):\n",
    "    running_loss = 0.0\n",
    "    running_rmse = 0.0\n",
    "    running_mae = 0.0\n",
    "    running_accuracy = 0.0\n",
    "    n_batches = 0\n",
    "    loss_criterion = nn.MSELoss(reduction='sum')\n",
    "\n",
    "    with torch.no_grad():  \n",
    "        for x_batch, y_batch in DatasetBatchIterator(dataset[0], dataset[1], batch_size=2046, shuffle=False):\n",
    "            x_batch, y_batch = x_batch.to(device), y_batch.to(device)  \n",
    "            user_id, movie_id = x_batch[:, 0], x_batch[:, 1]  \n",
    "\n",
    "            outputs = model(user_id, movie_id)  \n",
    "            loss = loss_criterion(outputs, y_batch)\n",
    "\n",
    "            running_loss += loss.item()\n",
    "            batch_rmse = torch.sqrt(loss / len(y_batch)).item()\n",
    "            batch_mae = torch.mean(torch.abs(outputs - y_batch)).item()\n",
    "            \n",
    "            predictions = outputs.detach().cpu().numpy()\n",
    "            targets = y_batch.detach().cpu().numpy()\n",
    "            correct_predictions = np.sum(np.abs(predictions - targets) < 0.5) \n",
    "            running_accuracy += correct_predictions / len(targets)\n",
    "\n",
    "            running_rmse += batch_rmse\n",
    "            running_mae += batch_mae\n",
    "            n_batches += 1\n",
    "\n",
    "    # Calculer la perte, RMSE, MAE et l'accuracy moyenne pour toutes les données\n",
    "    epoch_loss = running_loss / len(dataset[0])\n",
    "    epoch_rmse = running_rmse / n_batches\n",
    "    epoch_mae = running_mae / n_batches\n",
    "    epoch_accuracy = running_accuracy / n_batches\n",
    "\n",
    "    return epoch_loss, epoch_rmse, epoch_mae, epoch_accuracy\n",
    "\n",
    "# Évaluer le modèle sur les ensembles d'entraînement et de test\n",
    "train_loss, train_rmse, train_mae, train_accuracy = evaluate_model(ncf, datasets['train'])\n",
    "test_loss, test_rmse, test_mae, test_accuracy = evaluate_model(ncf, datasets['test'])\n",
    "\n",
    "# Afficher les résultats\n",
    "print(f\"Training Loss: {train_loss:.4f}, RMSE: {train_rmse:.4f}, MAE: {train_mae:.4f}, Accuracy: {train_accuracy:.4f}\")\n",
    "print(f\"Test Loss: {test_loss:.4f}, RMSE: {test_rmse:.4f}, MAE: {test_mae:.4f}, Accuracy: {test_accuracy:.4f}\")"
   ]
  }
 ],
 "metadata": {
  "kaggle": {
   "accelerator": "gpu",
   "dataSources": [],
   "dockerImageVersionId": 30787,
   "isGpuEnabled": true,
   "isInternetEnabled": true,
   "language": "python",
   "sourceType": "notebook"
  },
  "kernelspec": {
   "display_name": "Python 3",
   "language": "python",
   "name": "python3"
  },
  "language_info": {
   "codemirror_mode": {
    "name": "ipython",
    "version": 3
   },
   "file_extension": ".py",
   "mimetype": "text/x-python",
   "name": "python",
   "nbconvert_exporter": "python",
   "pygments_lexer": "ipython3",
   "version": "3.10.14"
  }
 },
 "nbformat": 4,
 "nbformat_minor": 4
}
